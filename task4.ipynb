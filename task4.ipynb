{
 "cells": [
  {
   "cell_type": "code",
   "execution_count": 17,
   "metadata": {},
   "outputs": [
    {
     "name": "stdout",
     "output_type": "stream",
     "text": [
      "I am thinking of a number between 1 and 20\n",
      "Take a guess\n",
      "13\n",
      "you are near to it\n",
      "Take a guess\n",
      "14\n",
      "your guess is correct and you guessed my number in 2 guesses\n"
     ]
    }
   ],
   "source": [
    "\n",
    "\n",
    "c=1\n",
    "k=0\n",
    "\n",
    "def take_a_guess(n):\n",
    "    if (n==14):\n",
    "        print('your guess is correct and you guessed my number in '+str(c)+' guesses')\n",
    "        return 1\n",
    "    elif (n<12):\n",
    "        print('Your guess is too low')\n",
    "        \n",
    "    elif (n>16):\n",
    "        print('your guess is too high')\n",
    "        \n",
    "    elif (n==12 or n==13 or n==15 or n==16):\n",
    "        print('you are near to it')\n",
    "        \n",
    "    \n",
    "print('I am thinking of a number between 1 and 20')\n",
    "while k!=1:\n",
    "    print('Take a guess')\n",
    "    k=take_a_guess(int(input()))\n",
    "    c=c+1\n",
    "    \n",
    "    \n",
    "    "
   ]
  },
  {
   "cell_type": "code",
   "execution_count": 25,
   "metadata": {},
   "outputs": [
    {
     "name": "stdout",
     "output_type": "stream",
     "text": [
      "Enter a number\n",
      "12\n",
      "6\n"
     ]
    },
    {
     "data": {
      "text/plain": [
       "6"
      ]
     },
     "execution_count": 25,
     "metadata": {},
     "output_type": "execute_result"
    }
   ],
   "source": [
    "def collatz(n):\n",
    "    if n%2==0:\n",
    "        a=n//2\n",
    "        print(a)\n",
    "        return a\n",
    "    else:\n",
    "        a=(3*n)+1\n",
    "        print(a)\n",
    "        return a\n",
    "print('Enter a number')\n",
    "collatz(int(input()))"
   ]
  },
  {
   "cell_type": "code",
   "execution_count": 27,
   "metadata": {},
   "outputs": [
    {
     "name": "stdout",
     "output_type": "stream",
     "text": [
      "Enter a number\n",
      "12\n",
      "6\n",
      "6\n"
     ]
    }
   ],
   "source": [
    "def collatz(n):\n",
    "    if n%2==0:\n",
    "        a=n//2\n",
    "        print(a)\n",
    "        return a\n",
    "    else:\n",
    "        a=(3*n)+1\n",
    "        print(a)\n",
    "        return a\n",
    "print('Enter a number')\n",
    "try:\n",
    "    print(collatz(int(input())))\n",
    "except ValueError:\n",
    "    print('You must enter an integer')\n"
   ]
  },
  {
   "cell_type": "code",
   "execution_count": null,
   "metadata": {},
   "outputs": [],
   "source": []
  }
 ],
 "metadata": {
  "kernelspec": {
   "display_name": "Python 3",
   "language": "python",
   "name": "python3"
  },
  "language_info": {
   "codemirror_mode": {
    "name": "ipython",
    "version": 3
   },
   "file_extension": ".py",
   "mimetype": "text/x-python",
   "name": "python",
   "nbconvert_exporter": "python",
   "pygments_lexer": "ipython3",
   "version": "3.7.3"
  }
 },
 "nbformat": 4,
 "nbformat_minor": 2
}
