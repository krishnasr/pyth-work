{
 "cells": [
  {
   "cell_type": "code",
   "execution_count": 3,
   "metadata": {},
   "outputs": [
    {
     "name": "stdout",
     "output_type": "stream",
     "text": [
      "inventory: \n",
      "1 rope\n",
      "6 torch\n",
      "42 gold coin\n",
      "1 dagger\n",
      "12 arrow\n",
      "the total number of items: 62\n"
     ]
    }
   ],
   "source": [
    "def display_inventory(inventory):\n",
    "    print('inventory: ')\n",
    "    item_total=0\n",
    "    for key,value in inventory.items():\n",
    "        print(str(value),key)\n",
    "        item_total+=value\n",
    "    print('the total number of items:',str(item_total))\n",
    "stuff = {'rope': 1, 'torch': 6, 'gold coin': 42, 'dagger': 1, 'arrow': 12}\n",
    "display_inventory(stuff)\n"
   ]
  },
  {
   "cell_type": "code",
   "execution_count": 14,
   "metadata": {},
   "outputs": [
    {
     "name": "stdout",
     "output_type": "stream",
     "text": [
      "inventory: \n",
      "45 gold coin\n",
      "1 rope\n",
      "1 dagger\n",
      "1 ruby\n",
      "the total number of items: 48\n"
     ]
    }
   ],
   "source": [
    "def display_inventory(inventory):\n",
    "    print('inventory: ')\n",
    "    item_total=0\n",
    "    for key,value in inventory.items():\n",
    "        print(str(value),key)\n",
    "        item_total+=value\n",
    "    print('the total number of items:',str(item_total))\n",
    "    \n",
    "def add_to_inventory(inventory,added_items):\n",
    "    for item in added_items:\n",
    "        if item in inventory.keys():\n",
    "            inventory[item]+=1\n",
    "        else:\n",
    "            inventory[item]=1\n",
    "    return inventory\n",
    "\n",
    "inv = {'gold coin': 42, 'rope': 1}\n",
    "dragonLoot = ['gold coin', 'dagger', 'gold coin', 'gold coin', 'ruby']\n",
    "\n",
    "display_inventory(add_to_inventory(inv,dragonLoot))"
   ]
  },
  {
   "cell_type": "code",
   "execution_count": null,
   "metadata": {},
   "outputs": [],
   "source": []
  },
  {
   "cell_type": "code",
   "execution_count": 13,
   "metadata": {},
   "outputs": [
    {
     "data": {
      "text/plain": [
       "True"
      ]
     },
     "execution_count": 13,
     "metadata": {},
     "output_type": "execute_result"
    }
   ],
   "source": []
  },
  {
   "cell_type": "code",
   "execution_count": null,
   "metadata": {},
   "outputs": [],
   "source": []
  }
 ],
 "metadata": {
  "kernelspec": {
   "display_name": "Python 3",
   "language": "python",
   "name": "python3"
  },
  "language_info": {
   "codemirror_mode": {
    "name": "ipython",
    "version": 3
   },
   "file_extension": ".py",
   "mimetype": "text/x-python",
   "name": "python",
   "nbconvert_exporter": "python",
   "pygments_lexer": "ipython3",
   "version": "3.7.3"
  }
 },
 "nbformat": 4,
 "nbformat_minor": 2
}
