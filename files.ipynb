{
 "cells": [
  {
   "cell_type": "code",
   "execution_count": 18,
   "metadata": {},
   "outputs": [
    {
     "data": {
      "text/plain": [
       "42"
      ]
     },
     "execution_count": 18,
     "metadata": {},
     "output_type": "execute_result"
    }
   ],
   "source": [
    "import json\n",
    "import csv\n",
    "import re\n",
    "with open('data.json',\"r\") as read_file:\n",
    "    file=json.load(read_file)\n",
    "out_file=open('data.csv','w',newline='')\n",
    "out_write=csv.writer(out_file)\n",
    "out_write.writerow(['backend_name',file['backend_name']])\n",
    "out_write.writerow(['category',file['category']])\n",
    "out_write.writerow(['commit',file['data']['commit']])\n",
    "out_write.writerow(['timestamp',file['timestamp']])\n",
    "out_write.writerow(['uuid',file['uuid']])\n",
    "list1=file['data']['files']\n",
    "out_write.writerow(['removed',a])\n",
    "out_write.writerow(['indexes',c])\n",
    "out_write.writerow(['origin',url.group()])\n",
    "out_write.writerow(['Author',email.group()])"
   ]
  },
  {
   "cell_type": "code",
   "execution_count": 14,
   "metadata": {},
   "outputs": [
    {
     "name": "stdout",
     "output_type": "stream",
     "text": [
      "['71845ed', '60c7460', 'd25faba', '5aac777']\n"
     ]
    }
   ],
   "source": [
    "c=[]\n",
    "for i in list1:\n",
    "    a=i['indexes']\n",
    "    for j in a:\n",
    "        c.append(j)\n",
    "print(c)"
   ]
  },
  {
   "cell_type": "code",
   "execution_count": 15,
   "metadata": {},
   "outputs": [],
   "source": [
    "a=0\n",
    "for i in list1:\n",
    "    a=a+int(i['removed'])"
   ]
  },
  {
   "cell_type": "code",
   "execution_count": 17,
   "metadata": {},
   "outputs": [],
   "source": [
    "import re\n",
    "url_regex=re.compile(r'https://(\\w)+.com/(\\w)+/(\\w)+(-)?(\\w)+')\n",
    "url=url_regex.search(file['origin'])\n",
    "email_regex=re.compile(r'(\\w)+(\\s)?(\\w)+\\s<(\\w)+(.)?(\\w)+@(\\w)+.com>')\n",
    "email=email_regex.search(file['data']['Author'])\n",
    "\n"
   ]
  },
  {
   "cell_type": "code",
   "execution_count": null,
   "metadata": {},
   "outputs": [],
   "source": []
  },
  {
   "cell_type": "code",
   "execution_count": null,
   "metadata": {},
   "outputs": [],
   "source": []
  }
 ],
 "metadata": {
  "kernelspec": {
   "display_name": "Python 3",
   "language": "python",
   "name": "python3"
  },
  "language_info": {
   "codemirror_mode": {
    "name": "ipython",
    "version": 3
   },
   "file_extension": ".py",
   "mimetype": "text/x-python",
   "name": "python",
   "nbconvert_exporter": "python",
   "pygments_lexer": "ipython3",
   "version": "3.7.3"
  }
 },
 "nbformat": 4,
 "nbformat_minor": 2
}
